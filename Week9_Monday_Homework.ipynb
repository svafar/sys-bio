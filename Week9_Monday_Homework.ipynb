{
  "nbformat": 4,
  "nbformat_minor": 0,
  "metadata": {
    "colab": {
      "name": "Week9_Monday_Homework.ipynb",
      "provenance": [],
      "collapsed_sections": [],
      "include_colab_link": true
    },
    "kernelspec": {
      "name": "ir",
      "display_name": "R"
    },
    "language_info": {
      "name": "R"
    }
  },
  "cells": [
    {
      "cell_type": "markdown",
      "metadata": {
        "id": "view-in-github",
        "colab_type": "text"
      },
      "source": [
        "<a href=\"https://colab.research.google.com/github/svafar/sys-bio/blob/main/Week9_Monday_Homework.ipynb\" target=\"_parent\"><img src=\"https://colab.research.google.com/assets/colab-badge.svg\" alt=\"Open In Colab\"/></a>"
      ]
    },
    {
      "cell_type": "markdown",
      "source": [
        "# Classification using TCGA Data"
      ],
      "metadata": {
        "id": "bWTXDKUL_es9"
      }
    },
    {
      "cell_type": "markdown",
      "source": [
        "## **Student Name**: PUT YOUR NAME HERE"
      ],
      "metadata": {
        "id": "TWpoccZgOweu"
      }
    },
    {
      "cell_type": "markdown",
      "source": [
        "LVF601M Inngangur að kerfislíffræði (Introduction to Systems Biology)   \n",
        "Háskóli Íslands (University of Iceland)   \n",
        "Instructor: Nikolas VanKeersbilck   \n",
        "Contact: nlv2(at)hi.is   "
      ],
      "metadata": {
        "id": "O9Oo-FWt6V2F"
      }
    },
    {
      "cell_type": "markdown",
      "source": [
        "Now, we will explore the use of a supervised learning method, k-nearest neighbor, to classify unseen patients as possibly having colorectal cancer or not. **NOTE**: This is not typically how cancer diagnosis is done since there can easily be false positives or false negatives (as can be seen in the PCA from class). This exercise is just to explore the concept of classification. **NOTE 2**: There are new technologies that use genomic information for diagnosing a wide variety of cancers but they focus on DNA Methylation and epigenetics, not the transcriptome like we are doing. If you are interested in this technology, see: https://www.nature.com/articles/d42473-020-00079-y\n",
        "\n",
        "First, we will load the libraries:"
      ],
      "metadata": {
        "id": "4JeTha-C6dXp"
      }
    },
    {
      "cell_type": "code",
      "execution_count": 1,
      "metadata": {
        "id": "R2UrfgMi6NF5",
        "outputId": "66701b7c-1ac0-4fa9-a683-4c7f303040ad",
        "colab": {
          "base_uri": "https://localhost:8080/"
        }
      },
      "outputs": [
        {
          "output_type": "stream",
          "name": "stderr",
          "text": [
            "Installing package into ‘/usr/local/lib/R/site-library’\n",
            "(as ‘lib’ is unspecified)\n",
            "\n",
            "Warning message in system(\"timedatectl\", intern = TRUE):\n",
            "“running command 'timedatectl' had status 1”\n",
            "── \u001b[1mAttaching packages\u001b[22m ─────────────────────────────────────── tidyverse 1.3.1 ──\n",
            "\n",
            "\u001b[32m✔\u001b[39m \u001b[34mggplot2\u001b[39m 3.3.5     \u001b[32m✔\u001b[39m \u001b[34mpurrr  \u001b[39m 0.3.4\n",
            "\u001b[32m✔\u001b[39m \u001b[34mtibble \u001b[39m 3.1.6     \u001b[32m✔\u001b[39m \u001b[34mdplyr  \u001b[39m 1.0.8\n",
            "\u001b[32m✔\u001b[39m \u001b[34mtidyr  \u001b[39m 1.2.0     \u001b[32m✔\u001b[39m \u001b[34mstringr\u001b[39m 1.4.0\n",
            "\u001b[32m✔\u001b[39m \u001b[34mreadr  \u001b[39m 2.1.2     \u001b[32m✔\u001b[39m \u001b[34mforcats\u001b[39m 0.5.1\n",
            "\n",
            "── \u001b[1mConflicts\u001b[22m ────────────────────────────────────────── tidyverse_conflicts() ──\n",
            "\u001b[31m✖\u001b[39m \u001b[34mdplyr\u001b[39m::\u001b[32mfilter()\u001b[39m masks \u001b[34mstats\u001b[39m::filter()\n",
            "\u001b[31m✖\u001b[39m \u001b[34mdplyr\u001b[39m::\u001b[32mlag()\u001b[39m    masks \u001b[34mstats\u001b[39m::lag()\n",
            "\n",
            "Installing package into ‘/usr/local/lib/R/site-library’\n",
            "(as ‘lib’ is unspecified)\n",
            "\n",
            "Installing package into ‘/usr/local/lib/R/site-library’\n",
            "(as ‘lib’ is unspecified)\n",
            "\n",
            "also installing the dependencies ‘listenv’, ‘parallelly’, ‘future’, ‘globals’, ‘future.apply’, ‘progressr’, ‘numDeriv’, ‘SQUAREM’, ‘lava’, ‘prodlim’, ‘proxy’, ‘iterators’, ‘gower’, ‘hardhat’, ‘ipred’, ‘timeDate’, ‘e1071’, ‘foreach’, ‘ModelMetrics’, ‘plyr’, ‘pROC’, ‘recipes’, ‘reshape2’\n",
            "\n",
            "\n",
            "Loading required package: lattice\n",
            "\n",
            "\n",
            "Attaching package: ‘caret’\n",
            "\n",
            "\n",
            "The following object is masked from ‘package:purrr’:\n",
            "\n",
            "    lift\n",
            "\n",
            "\n"
          ]
        }
      ],
      "source": [
        "install.packages(\"tidyverse\")\n",
        "library(tidyverse)\n",
        "install.packages('class')\n",
        "library(class)\n",
        "install.packages('caret')\n",
        "library(caret)"
      ]
    },
    {
      "cell_type": "markdown",
      "source": [
        "Then, we need to load the data we created in the lecture. \n"
      ],
      "metadata": {
        "id": "Gtia0JRQ6sca"
      }
    },
    {
      "cell_type": "code",
      "source": [
        "file2download = 'http://royalresults.com/kerfisliffraedi/merged_data.tsv'\n",
        "destination_file = 'merged_data.tsv'\n",
        "download.file(file2download, destination_file)"
      ],
      "metadata": {
        "id": "erIDCpxJ6uHU"
      },
      "execution_count": 2,
      "outputs": []
    },
    {
      "cell_type": "code",
      "source": [
        "merged_data <- read.delim(file.path(\"/content/merged_data.tsv\"), header = TRUE, sep = \"\\t\") "
      ],
      "metadata": {
        "id": "3CY0nQnt-46j"
      },
      "execution_count": 3,
      "outputs": []
    },
    {
      "cell_type": "code",
      "source": [
        "merged_data <- as.data.frame(merged_data)"
      ],
      "metadata": {
        "id": "vF6_nIZt_8s9"
      },
      "execution_count": 4,
      "outputs": []
    },
    {
      "cell_type": "code",
      "source": [
        "dim(merged_data)"
      ],
      "metadata": {
        "id": "6raUPUEa_-Pj",
        "outputId": "d8e30d70-3e82-47b4-985a-c69d51993272",
        "colab": {
          "base_uri": "https://localhost:8080/",
          "height": 34
        }
      },
      "execution_count": 5,
      "outputs": [
        {
          "output_type": "display_data",
          "data": {
            "text/plain": [
              "[1]  510 5374"
            ],
            "text/latex": "\\begin{enumerate*}\n\\item 510\n\\item 5374\n\\end{enumerate*}\n",
            "text/markdown": "1. 510\n2. 5374\n\n\n",
            "text/html": [
              "<style>\n",
              ".list-inline {list-style: none; margin:0; padding: 0}\n",
              ".list-inline>li {display: inline-block}\n",
              ".list-inline>li:not(:last-child)::after {content: \"\\00b7\"; padding: 0 .5ex}\n",
              "</style>\n",
              "<ol class=list-inline><li>510</li><li>5374</li></ol>\n"
            ]
          },
          "metadata": {}
        }
      ]
    },
    {
      "cell_type": "markdown",
      "source": [
        "We will first set the seed which is the number R uses to generate random numbers, and thus, randomly separate our data into testing and training sets. This makes the results reproducible from run to run. "
      ],
      "metadata": {
        "id": "Ry4WACsy-lKO"
      }
    },
    {
      "cell_type": "code",
      "source": [
        "set.seed(123)"
      ],
      "metadata": {
        "id": "foyZUjp5-Fg3"
      },
      "execution_count": 6,
      "outputs": []
    },
    {
      "cell_type": "markdown",
      "source": [
        "We need to split the normalized count data into two sets: a training set, which we will use to train our model, and a testing set which is used to test and score the model. \n",
        "\n",
        "We will first subset out the response variable (the thing we are trying to predict): "
      ],
      "metadata": {
        "id": "BrXchHtV-qKd"
      }
    },
    {
      "cell_type": "code",
      "source": [
        "merged_data_subset <- merged_data[,2:5374]"
      ],
      "metadata": {
        "id": "n0jueC3z-p1g"
      },
      "execution_count": 7,
      "outputs": []
    },
    {
      "cell_type": "markdown",
      "source": [
        "Here, we will splice the data into our two sets. We are going to use 70% for training and 30% for testing. "
      ],
      "metadata": {
        "id": "9dayLeRACgCM"
      }
    },
    {
      "cell_type": "code",
      "source": [
        "dat.d <- sample(1:nrow(merged_data_subset),size=nrow(merged_data_subset)*0.7,replace = FALSE) #random selection of 70% data.\n",
        "\n",
        "train.data <- merged_data_subset[dat.d,] # 70% training data\n",
        "test.data <- merged_data_subset[-dat.d,] # remaining 30% test data"
      ],
      "metadata": {
        "id": "fo4bcdxjClEg"
      },
      "execution_count": 8,
      "outputs": []
    },
    {
      "cell_type": "markdown",
      "source": [
        "The next line creates separate dataframes for the response variable which is our target."
      ],
      "metadata": {
        "id": "7en_6PedCpQy"
      }
    },
    {
      "cell_type": "code",
      "source": [
        "train.data_labels <- merged_data[dat.d,1]\n",
        "test.data_labels <-merged_data[-dat.d,1]"
      ],
      "metadata": {
        "id": "AYCqBIBtCnG1"
      },
      "execution_count": 9,
      "outputs": []
    },
    {
      "cell_type": "markdown",
      "source": [
        "## K-nearest neighbors"
      ],
      "metadata": {
        "id": "dWplpTrGCsZ4"
      }
    },
    {
      "cell_type": "markdown",
      "source": [
        "**Question 1**: Find the number of observations in the training data. "
      ],
      "metadata": {
        "id": "iOstzwC9Cyv2"
      }
    },
    {
      "cell_type": "code",
      "source": [
        "# PUT CODE HERE TO SEE HOW MANY INDIVIDUALS ARE IN THE TRAINING SET\n"
      ],
      "metadata": {
        "id": "AAaxdbkdCr-_"
      },
      "execution_count": null,
      "outputs": []
    },
    {
      "cell_type": "markdown",
      "source": [
        "**Question 2**: Run k-nearest neighbor on the training and testing data. You will use the package loaded above called class to achieve this. https://www.rdocumentation.org/packages/class/versions/7.3-20/topics/knn You will need the first 4 parameters listed in the documentation. \n",
        "\n",
        "Find what the optimal k is. You can determine this with a loop or other methods. If you wish to make a plot showing accuracy with different k choices, that would be one way to go. You can use ggplot2 included in the TidyVerse package we have already imported. "
      ],
      "metadata": {
        "id": "H-1iYZN0JlxM"
      }
    },
    {
      "cell_type": "code",
      "source": [
        "# PUT CODE HERE\n",
        "# knn.tcga <- \n",
        "\n",
        "# You can calculate accuracy using the code:\n",
        "# ACC <- 100 * sum(test.data_labels == knn.tcga)/NROW(test.data_labels)\n",
        "# But more detailed statistics are in the commands below. \n"
      ],
      "metadata": {
        "id": "UIkwKR6LC4dc"
      },
      "execution_count": null,
      "outputs": []
    },
    {
      "cell_type": "markdown",
      "source": [
        "Let's look at the results"
      ],
      "metadata": {
        "id": "mcE5RmT2DA0B"
      }
    },
    {
      "cell_type": "code",
      "source": [
        "table(knn.tcga ,test.data_labels)"
      ],
      "metadata": {
        "id": "gfTfpYO6DCJc"
      },
      "execution_count": null,
      "outputs": []
    },
    {
      "cell_type": "markdown",
      "source": [
        "And now, lets look at the confusion matrix"
      ],
      "metadata": {
        "id": "YC8QCSg3DGbY"
      }
    },
    {
      "cell_type": "code",
      "source": [
        "confusionMatrix(table(knn.tcga ,test.data_labels))"
      ],
      "metadata": {
        "id": "_5su-grwDEOR"
      },
      "execution_count": null,
      "outputs": []
    },
    {
      "cell_type": "markdown",
      "source": [
        "**Question 3**: What did you choose as the best k and how did you reach that conclusion? \n",
        "\n",
        "A: "
      ],
      "metadata": {
        "id": "9R46oWcqL158"
      }
    },
    {
      "cell_type": "markdown",
      "source": [
        "**Question 4:** What was the accuracy of your model? How many were incorrectly identified? \n",
        "\n",
        "A: "
      ],
      "metadata": {
        "id": "P43ohKpALp5B"
      }
    },
    {
      "cell_type": "markdown",
      "source": [
        "**Question 5:** Explain the difference between accuracy, sensitivity, and specificity (few sentences is OK).\n",
        "\n",
        "A:"
      ],
      "metadata": {
        "id": "U2yOjOtBMHCF"
      }
    },
    {
      "cell_type": "markdown",
      "source": [
        "**Question 6**: Which of the above from question 5 are we trying to maximize in this case? Is one more important than the others? Explain. \n",
        "\n",
        "A: "
      ],
      "metadata": {
        "id": "wx7ceFuOMWRu"
      }
    },
    {
      "cell_type": "code",
      "source": [
        "sessionInfo()"
      ],
      "metadata": {
        "id": "MgyBBy8dDK_E"
      },
      "execution_count": null,
      "outputs": []
    }
  ]
}